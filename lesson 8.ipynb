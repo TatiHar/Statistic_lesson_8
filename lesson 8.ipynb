{
 "cells": [
  {
   "cell_type": "code",
   "execution_count": 1,
   "id": "8ddd9a65",
   "metadata": {},
   "outputs": [],
   "source": [
    "import numpy as np\n",
    "from scipy import stats"
   ]
  },
  {
   "cell_type": "code",
   "execution_count": 2,
   "id": "02d9c60a",
   "metadata": {},
   "outputs": [
    {
     "data": {
      "text/plain": [
       "F_onewayResult(statistic=5.500053450812596, pvalue=0.010482206918698694)"
      ]
     },
     "execution_count": 2,
     "metadata": {},
     "output_type": "execute_result"
    }
   ],
   "source": [
    "fb = np.array([173, 175, 180, 178, 177, 185, 183, 182])\n",
    "hk = np.array([177, 179, 180, 188, 177, 172, 171, 184, 180])\n",
    "wl = np.array([172, 173, 169, 177, 166, 180, 178, 177, 172, 166, 170])\n",
    "\n",
    "stats.f_oneway(fb, hk, wl)"
   ]
  },
  {
   "cell_type": "markdown",
   "id": "7756fc62",
   "metadata": {},
   "source": [
    "Нулевая гипотеза H0: μ1 = μ2 = μ3\n",
    "\n",
    "Альтернативная гипотеза H1: μ1 != μ2 != μ3\n",
    "\n",
    "При статистическом уровне значимости 5% (α = 0.05), различие между группами статистически значимо, поскольку 0.05 > 0.01048. Поэтому принимаем альтернативную гипотезу (H1).\n",
    "\n",
    "Вывод: существует различие среднего роста среди взрослых футболистов, хоккеистов и штангистов.\n",
    "\n",
    "При статистическом уровне значимости 1% (α = 0.01), различие между группами статистически незначимо, поскольку 0.01 < 0.01048. Поэтому принимаем нулевую гипотезу (H0).\n",
    "\n",
    "Вывод: не существует различия среднего роста среди взрослых футболистов, хоккеистов и штангистов."
   ]
  }
 ],
 "metadata": {
  "kernelspec": {
   "display_name": "Python 3",
   "language": "python",
   "name": "python3"
  },
  "language_info": {
   "codemirror_mode": {
    "name": "ipython",
    "version": 3
   },
   "file_extension": ".py",
   "mimetype": "text/x-python",
   "name": "python",
   "nbconvert_exporter": "python",
   "pygments_lexer": "ipython3",
   "version": "3.8.8"
  }
 },
 "nbformat": 4,
 "nbformat_minor": 5
}
